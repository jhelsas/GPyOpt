{
 "cells": [
  {
   "cell_type": "code",
   "execution_count": 1,
   "metadata": {},
   "outputs": [
    {
     "name": "stdout",
     "output_type": "stream",
     "text": [
      "Populating the interactive namespace from numpy and matplotlib\n"
     ]
    }
   ],
   "source": [
    "%pylab inline\n",
    "import GPy\n",
    "import GPyOpt\n",
    "import numpy as np\n",
    "import matplotlib.pyplot as plt\n",
    "from GPyOpt.util.pareto import ParetoFront\n",
    "from GPyOpt.experiment_design import initial_design\n",
    "from GPyOpt.acquisitions.HvEI import AcquisitionHvEI\n",
    "from GPyOpt.methods import ModularBayesianMultiobjectiveOptimization"
   ]
  },
  {
   "cell_type": "code",
   "execution_count": 2,
   "metadata": {},
   "outputs": [],
   "source": [
    "def binhKorn(x,y):\n",
    "    f1 = 4.*x*x + 4*y*y\n",
    "    f2 = (x-5.)**2 + (y-5.)**2\n",
    "    return np.array([f1,f2])\n",
    "\n",
    "def disc_constraint(x,y):\n",
    "    return (25.-(x-5)**2-y**2)\n",
    "\n",
    "def line_constraint(x,y):\n",
    "    return ((x-8)**2 + (y+3)**2 - 7.7)"
   ]
  },
  {
   "cell_type": "code",
   "execution_count": 3,
   "metadata": {
    "scrolled": false
   },
   "outputs": [
    {
     "name": "stdout",
     "output_type": "stream",
     "text": [
      "[[ 3.5870e+00  1.5000e+00  6.0465e+01  1.4247e+01  2.0753e+01  3.2025e+01]\n",
      " [ 3.8043e+00  2.6739e+00  8.6491e+01  6.8403e+00  1.6421e+01  4.2097e+01]\n",
      " [ 3.3696e+00  4.5652e-01  4.6250e+01  2.3302e+01  2.2133e+01  2.5688e+01]\n",
      " [ 4.0217e+00  1.7609e+00  7.7100e+01  1.1449e+01  2.0942e+01  3.0792e+01]\n",
      " [ 2.9348e+00  1.3696e+00  4.1955e+01  1.7445e+01  1.8859e+01  3.7050e+01]\n",
      " [ 2.5000e+00  3.2609e-01  2.5425e+01  2.8095e+01  1.8644e+01  3.3613e+01]\n",
      " [ 2.2826e+00  8.4783e-01  2.3716e+01  2.4625e+01  1.6897e+01  3.9794e+01]\n",
      " [ 4.2391e+00  6.5217e-02  7.1898e+01  2.4931e+01  2.4417e+01  1.5840e+01]\n",
      " [ 4.6739e+00  1.6304e+00  9.8015e+01  1.1460e+01  2.2235e+01  2.4804e+01]\n",
      " [ 1.4130e+00  5.8696e-01  9.3648e+00  3.2341e+01  1.1789e+01  4.8554e+01]\n",
      " [ 1.0870e-01  2.2826e+00  2.0888e+01  3.1309e+01 -4.1352e+00  8.2479e+01]\n",
      " [ 1.8478e+00  1.9565e-01  1.3811e+01  3.3018e+01  1.5026e+01  4.0361e+01]\n",
      " [ 2.7174e+00  7.1739e-01  3.1595e+01  2.3551e+01  1.9275e+01  3.4025e+01]\n",
      " [ 3.2609e-01  9.7826e-01  4.2533e+00  3.8020e+01  2.1975e+00  6.7016e+01]\n",
      " [ 1.1957e+00  1.2391e+00  1.1860e+01  2.8617e+01  8.9915e+00  5.6569e+01]\n",
      " [ 7.6087e-01  2.9348e+00  3.6767e+01  2.2235e+01 -1.5832e+00  7.9927e+01]\n",
      " [ 9.7826e-01  1.8913e+00  1.8136e+01  2.5838e+01  5.2486e+00  6.5530e+01]\n",
      " [ 3.1522e+00  2.5435e+00  6.5622e+01  9.4490e+00  1.5116e+01  4.6532e+01]\n",
      " [ 2.0652e+00  2.4130e+00  4.0352e+01  1.5305e+01  1.0564e+01  5.6823e+01]\n",
      " [ 4.8913e+00  2.1522e+00  1.1423e+02  8.1219e+00  2.0356e+01  2.8509e+01]\n",
      " [ 1.6304e+00  2.0217e+00  2.6983e+01  2.0224e+01  9.5586e+00  5.8089e+01]\n",
      " [ 4.4565e+00  2.8043e+00  1.1090e+02  5.1163e+00  1.6840e+01  3.8547e+01]\n",
      " [ 5.4348e-01  1.1087e+00  6.0983e+00  3.5003e+01  3.9102e+00  6.4781e+01]]\n"
     ]
    }
   ],
   "source": [
    "np.set_printoptions(precision=6)\n",
    "\n",
    "objective = None \n",
    "\n",
    "space =[{'name': 'var_1', 'type': 'continuous', 'domain': (0.0,5.0)},\n",
    "        {'name': 'var_2', 'type': 'continuous', 'domain': (0.0,3.0)}]\n",
    "space = GPyOpt.Design_space(space = space)\n",
    "\n",
    "kernel   = None \n",
    "kernel_c = None\n",
    "\n",
    "model_f1 = GPyOpt.models.GPModel(optimize_restarts=5,verbose=False)\n",
    "model_f2 = GPyOpt.models.GPModel(optimize_restarts=5,verbose=False)\n",
    "model_f  = [model_f1,model_f2]\n",
    "\n",
    "model_c1 = GPyOpt.models.GPModel(optimize_restarts=5,verbose=False)\n",
    "model_c2 = GPyOpt.models.GPModel(optimize_restarts=5,verbose=False)\n",
    "model_c  = [model_c1,model_c2]\n",
    "\n",
    "aquisition_optimizer = GPyOpt.optimization.AcquisitionOptimizer(space)\n",
    "\n",
    "num_init = 23\n",
    "typ_init = 'latin'\n",
    "X_init = initial_design(typ_init,space,num_init)\n",
    "\n",
    "Y_init = np.zeros((X_init.shape[0],2))\n",
    "C_init = np.zeros((X_init.shape[0],2))\n",
    "\n",
    "for i in range(num_init):\n",
    "    Y_init[i,0],Y_init[i,1] = binhKorn(X_init[i,0],X_init[i,1])\n",
    "    C_init[i,0] = disc_constraint(X_init[i,0],X_init[i,1])\n",
    "    C_init[i,1] = line_constraint(X_init[i,0],X_init[i,1])\n",
    "\n",
    "np.set_printoptions(precision=4)\n",
    "print(np.hstack((X_init,Y_init,C_init)))"
   ]
  },
  {
   "cell_type": "code",
   "execution_count": null,
   "metadata": {},
   "outputs": [
    {
     "name": "stdout",
     "output_type": "stream",
     "text": [
      "Current iteration -  0  :  [  4.9077   2.9681 131.5792   4.1372  16.182   37.4805]\n",
      "Current iteration -  1  :  [  4.8592   2.9342 128.8848   4.2874  16.3707  37.3794]\n",
      "Current iteration -  2  :  [  4.7973   2.9363 126.544    4.3     16.3371  37.7967]\n",
      "Current iteration -  3  :  [  5.    3.  136.    4.   16.   37.3]\n",
      "Current iteration -  4  :  [  4.922    2.9597 131.9457   4.1689  16.234   37.2919]\n",
      "Current iteration -  5  :  [  4.7658   2.9914 126.6459   4.0894  15.9968  38.6565]\n",
      "Current iteration -  6  :  [  4.7231   2.9838 124.8423   4.1419  16.0205  38.8434]\n",
      "Current iteration -  7  :  [  4.921    2.9829 132.4556   4.0751  16.0962  37.5749]\n",
      "Current iteration -  8  :  [  4.7602   2.9544 125.5521   4.2421  16.2143  38.2505]\n",
      "Current iteration -  9  :  [  4.6123   2.9625 120.1967   4.3018  16.0734  39.328 ]\n",
      "Current iteration -  10  :  [  4.6645   2.9601 122.0765   4.274   16.1255  38.9481]\n",
      "Current iteration -  11  :  [  4.9557   2.992  134.0428   4.0341  16.046   37.4719]\n",
      "Current iteration -  12  :  [  4.8013   2.979  127.7074   4.1238  16.0858  38.2809]\n",
      "Current iteration -  13  :  [ 0.2754  0.2718  0.599  44.6773  2.6044 62.674 ]\n",
      "Current iteration -  14  :  [ 0.1108  0.1384  0.1258 47.5387  1.0769 64.3887]\n",
      "Current iteration -  15  :  [ 2.5485  2.5485 51.9593 12.0196 12.495  52.8053]\n",
      "Current iteration -  16  :  [ 3.1008  3.     74.4604  7.6069 12.3931 52.3019]\n",
      "Current iteration -  17  :  [ 3.7925  3.     93.533   5.458  14.542  46.0028]\n",
      "Current iteration -  18  :  [ 2.0346  2.0346 33.1166 17.5872 12.0672 53.2323]\n",
      "Current iteration -  19  :  [ 1.5807  1.6697 21.1463 22.7824 10.5204 55.3138]\n",
      "Current iteration -  20  :  [ 2.3873  2.3949 45.7403 13.6124 12.4382 52.9074]\n",
      "Current iteration -  21  :  [ 2.7028  2.7086 58.5666 10.5276 12.3862 52.9488]\n",
      "Current iteration -  22  :  [ 0.5196  0.5191  2.158  40.152   4.657  60.6398]\n",
      "Current iteration -  23  :  [ 1.3633  1.3645 14.8817 26.4425  9.9128 55.3942]\n"
     ]
    }
   ],
   "source": [
    "iter_count = 150-num_init\n",
    "current_iter = 0\n",
    "X_step = X_init\n",
    "Y_step = Y_init\n",
    "C_step = C_init \n",
    "\n",
    "while current_iter < iter_count:\n",
    "    Pareto = ParetoFront(Y_step)\n",
    "    \n",
    "    acquisition = AcquisitionHvEI(model_f,space,optimizer=aquisition_optimizer, jitter = 1e-3,\n",
    "                                  model_c=model_c,jitter_c = np.array([0.0,0.0]),P=Pareto,r=np.array([140,60]))\n",
    "    \n",
    "    # --- CHOOSE a collection method\n",
    "    evaluator = GPyOpt.core.evaluators.Sequential(acquisition)\n",
    "    \n",
    "    bo_step = ModularBayesianMultiobjectiveOptimization(model_f, space, objective, acquisition, evaluator, \n",
    "                                                        X_init = X_step, Y_init = Y_step, C_init = C_step, \n",
    "                                                        model_c = model_c, normalize_Y = False)\n",
    "    \n",
    "    x_next = bo_step.suggest_next_locations()\n",
    "    y_next = binhKorn(x_next[0][0],x_next[0][1])\n",
    "    c1_next = disc_constraint(x_next[0][0],x_next[0][1])\n",
    "    c2_next = line_constraint(x_next[0][0],x_next[0][1])\n",
    "    c_next = np.array([c1_next,c2_next])\n",
    "    print(\"Current iteration - \",current_iter,\" : \",np.array([x_next[0][0],x_next[0][1],y_next[0],y_next[1],c_next[0],c_next[1]]))\n",
    "    \n",
    "    X_step = np.vstack((X_step, x_next))\n",
    "    Y_step = np.vstack((Y_step, y_next))\n",
    "    C_step = np.vstack((C_step, c_next))\n",
    "    \n",
    "    current_iter += 1"
   ]
  },
  {
   "cell_type": "code",
   "execution_count": null,
   "metadata": {},
   "outputs": [],
   "source": []
  },
  {
   "cell_type": "code",
   "execution_count": null,
   "metadata": {},
   "outputs": [],
   "source": []
  }
 ],
 "metadata": {
  "kernelspec": {
   "display_name": "Python 3",
   "language": "python",
   "name": "python3"
  },
  "language_info": {
   "codemirror_mode": {
    "name": "ipython",
    "version": 3
   },
   "file_extension": ".py",
   "mimetype": "text/x-python",
   "name": "python",
   "nbconvert_exporter": "python",
   "pygments_lexer": "ipython3",
   "version": "3.6.9"
  }
 },
 "nbformat": 4,
 "nbformat_minor": 2
}
